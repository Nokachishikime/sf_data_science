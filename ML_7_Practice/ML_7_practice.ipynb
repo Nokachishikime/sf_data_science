{
 "cells": [
  {
   "cell_type": "code",
   "execution_count": 1,
   "metadata": {},
   "outputs": [],
   "source": [
    "!pip freeze > requirements.txt"
   ]
  },
  {
   "attachments": {},
   "cell_type": "markdown",
   "metadata": {},
   "source": [
    "### Lib import"
   ]
  },
  {
   "cell_type": "code",
   "execution_count": 166,
   "metadata": {},
   "outputs": [],
   "source": [
    "import numpy as np\n",
    "import pandas as pd\n",
    "\n",
    "import matplotlib.pyplot as plt\n",
    "import seaborn as sns\n",
    "\n",
    "from sklearn.linear_model import LogisticRegression\n",
    "\n",
    "from sklearn.ensemble import RandomForestClassifier\n",
    "\n",
    "from sklearn.model_selection import GridSearchCV\n",
    "from sklearn.model_selection import RandomizedSearchCV\n",
    "from sklearn.model_selection import train_test_split\n",
    "from sklearn.model_selection import cross_val_score\n",
    "\n",
    "from sklearn.metrics import f1_score\n",
    "\n",
    "import time\n",
    "\n",
    "import hyperopt\n",
    "from hyperopt import hp, fmin, tpe, Trials\n",
    "\n",
    "import optuna\n"
   ]
  },
  {
   "attachments": {},
   "cell_type": "markdown",
   "metadata": {},
   "source": [
    "### Visual settings"
   ]
  },
  {
   "cell_type": "code",
   "execution_count": 2,
   "metadata": {},
   "outputs": [],
   "source": [
    "%matplotlib inline\n",
    "plt.style.use('seaborn-v0_8')"
   ]
  },
  {
   "attachments": {},
   "cell_type": "markdown",
   "metadata": {},
   "source": [
    "### Data reading"
   ]
  },
  {
   "cell_type": "code",
   "execution_count": 3,
   "metadata": {},
   "outputs": [
    {
     "data": {
      "text/html": [
       "<div>\n",
       "<style scoped>\n",
       "    .dataframe tbody tr th:only-of-type {\n",
       "        vertical-align: middle;\n",
       "    }\n",
       "\n",
       "    .dataframe tbody tr th {\n",
       "        vertical-align: top;\n",
       "    }\n",
       "\n",
       "    .dataframe thead th {\n",
       "        text-align: right;\n",
       "    }\n",
       "</style>\n",
       "<table border=\"1\" class=\"dataframe\">\n",
       "  <thead>\n",
       "    <tr style=\"text-align: right;\">\n",
       "      <th></th>\n",
       "      <th>Activity</th>\n",
       "      <th>D1</th>\n",
       "      <th>D2</th>\n",
       "      <th>D3</th>\n",
       "      <th>D4</th>\n",
       "      <th>D5</th>\n",
       "      <th>D6</th>\n",
       "      <th>D7</th>\n",
       "      <th>D8</th>\n",
       "      <th>D9</th>\n",
       "      <th>...</th>\n",
       "      <th>D1767</th>\n",
       "      <th>D1768</th>\n",
       "      <th>D1769</th>\n",
       "      <th>D1770</th>\n",
       "      <th>D1771</th>\n",
       "      <th>D1772</th>\n",
       "      <th>D1773</th>\n",
       "      <th>D1774</th>\n",
       "      <th>D1775</th>\n",
       "      <th>D1776</th>\n",
       "    </tr>\n",
       "  </thead>\n",
       "  <tbody>\n",
       "    <tr>\n",
       "      <th>0</th>\n",
       "      <td>1</td>\n",
       "      <td>0.000000</td>\n",
       "      <td>0.497009</td>\n",
       "      <td>0.10</td>\n",
       "      <td>0.0</td>\n",
       "      <td>0.132956</td>\n",
       "      <td>0.678031</td>\n",
       "      <td>0.273166</td>\n",
       "      <td>0.585445</td>\n",
       "      <td>0.743663</td>\n",
       "      <td>...</td>\n",
       "      <td>0</td>\n",
       "      <td>0</td>\n",
       "      <td>0</td>\n",
       "      <td>0</td>\n",
       "      <td>0</td>\n",
       "      <td>0</td>\n",
       "      <td>0</td>\n",
       "      <td>0</td>\n",
       "      <td>0</td>\n",
       "      <td>0</td>\n",
       "    </tr>\n",
       "    <tr>\n",
       "      <th>1</th>\n",
       "      <td>1</td>\n",
       "      <td>0.366667</td>\n",
       "      <td>0.606291</td>\n",
       "      <td>0.05</td>\n",
       "      <td>0.0</td>\n",
       "      <td>0.111209</td>\n",
       "      <td>0.803455</td>\n",
       "      <td>0.106105</td>\n",
       "      <td>0.411754</td>\n",
       "      <td>0.836582</td>\n",
       "      <td>...</td>\n",
       "      <td>1</td>\n",
       "      <td>1</td>\n",
       "      <td>1</td>\n",
       "      <td>1</td>\n",
       "      <td>0</td>\n",
       "      <td>1</td>\n",
       "      <td>0</td>\n",
       "      <td>0</td>\n",
       "      <td>1</td>\n",
       "      <td>0</td>\n",
       "    </tr>\n",
       "    <tr>\n",
       "      <th>2</th>\n",
       "      <td>1</td>\n",
       "      <td>0.033300</td>\n",
       "      <td>0.480124</td>\n",
       "      <td>0.00</td>\n",
       "      <td>0.0</td>\n",
       "      <td>0.209791</td>\n",
       "      <td>0.610350</td>\n",
       "      <td>0.356453</td>\n",
       "      <td>0.517720</td>\n",
       "      <td>0.679051</td>\n",
       "      <td>...</td>\n",
       "      <td>0</td>\n",
       "      <td>0</td>\n",
       "      <td>0</td>\n",
       "      <td>0</td>\n",
       "      <td>0</td>\n",
       "      <td>0</td>\n",
       "      <td>0</td>\n",
       "      <td>0</td>\n",
       "      <td>0</td>\n",
       "      <td>0</td>\n",
       "    </tr>\n",
       "    <tr>\n",
       "      <th>3</th>\n",
       "      <td>1</td>\n",
       "      <td>0.000000</td>\n",
       "      <td>0.538825</td>\n",
       "      <td>0.00</td>\n",
       "      <td>0.5</td>\n",
       "      <td>0.196344</td>\n",
       "      <td>0.724230</td>\n",
       "      <td>0.235606</td>\n",
       "      <td>0.288764</td>\n",
       "      <td>0.805110</td>\n",
       "      <td>...</td>\n",
       "      <td>0</td>\n",
       "      <td>0</td>\n",
       "      <td>0</td>\n",
       "      <td>0</td>\n",
       "      <td>0</td>\n",
       "      <td>0</td>\n",
       "      <td>0</td>\n",
       "      <td>0</td>\n",
       "      <td>0</td>\n",
       "      <td>0</td>\n",
       "    </tr>\n",
       "    <tr>\n",
       "      <th>4</th>\n",
       "      <td>0</td>\n",
       "      <td>0.100000</td>\n",
       "      <td>0.517794</td>\n",
       "      <td>0.00</td>\n",
       "      <td>0.0</td>\n",
       "      <td>0.494734</td>\n",
       "      <td>0.781422</td>\n",
       "      <td>0.154361</td>\n",
       "      <td>0.303809</td>\n",
       "      <td>0.812646</td>\n",
       "      <td>...</td>\n",
       "      <td>0</td>\n",
       "      <td>0</td>\n",
       "      <td>0</td>\n",
       "      <td>0</td>\n",
       "      <td>0</td>\n",
       "      <td>0</td>\n",
       "      <td>0</td>\n",
       "      <td>0</td>\n",
       "      <td>0</td>\n",
       "      <td>0</td>\n",
       "    </tr>\n",
       "  </tbody>\n",
       "</table>\n",
       "<p>5 rows × 1777 columns</p>\n",
       "</div>"
      ],
      "text/plain": [
       "   Activity        D1        D2    D3   D4        D5        D6        D7  \\\n",
       "0         1  0.000000  0.497009  0.10  0.0  0.132956  0.678031  0.273166   \n",
       "1         1  0.366667  0.606291  0.05  0.0  0.111209  0.803455  0.106105   \n",
       "2         1  0.033300  0.480124  0.00  0.0  0.209791  0.610350  0.356453   \n",
       "3         1  0.000000  0.538825  0.00  0.5  0.196344  0.724230  0.235606   \n",
       "4         0  0.100000  0.517794  0.00  0.0  0.494734  0.781422  0.154361   \n",
       "\n",
       "         D8        D9  ...  D1767  D1768  D1769  D1770  D1771  D1772  D1773  \\\n",
       "0  0.585445  0.743663  ...      0      0      0      0      0      0      0   \n",
       "1  0.411754  0.836582  ...      1      1      1      1      0      1      0   \n",
       "2  0.517720  0.679051  ...      0      0      0      0      0      0      0   \n",
       "3  0.288764  0.805110  ...      0      0      0      0      0      0      0   \n",
       "4  0.303809  0.812646  ...      0      0      0      0      0      0      0   \n",
       "\n",
       "   D1774  D1775  D1776  \n",
       "0      0      0      0  \n",
       "1      0      1      0  \n",
       "2      0      0      0  \n",
       "3      0      0      0  \n",
       "4      0      0      0  \n",
       "\n",
       "[5 rows x 1777 columns]"
      ]
     },
     "execution_count": 3,
     "metadata": {},
     "output_type": "execute_result"
    }
   ],
   "source": [
    "data = pd.read_csv('data/_train_sem09 (1).csv')\n",
    "data.head()"
   ]
  },
  {
   "cell_type": "code",
   "execution_count": 4,
   "metadata": {},
   "outputs": [
    {
     "name": "stdout",
     "output_type": "stream",
     "text": [
      "<class 'pandas.core.frame.DataFrame'>\n",
      "RangeIndex: 3751 entries, 0 to 3750\n",
      "Columns: 1777 entries, Activity to D1776\n",
      "dtypes: float64(942), int64(835)\n",
      "memory usage: 50.9 MB\n"
     ]
    }
   ],
   "source": [
    "data.info()"
   ]
  },
  {
   "cell_type": "code",
   "execution_count": 5,
   "metadata": {},
   "outputs": [
    {
     "data": {
      "image/png": "[encoded data removed]",
      "text/plain": [
       "<Figure size 800x550 with 1 Axes>"
      ]
     },
     "metadata": {},
     "output_type": "display_data"
    }
   ],
   "source": [
    "sns.countplot(data=data, x='Activity');"
   ]
  },
  {
   "attachments": {},
   "cell_type": "markdown",
   "metadata": {},
   "source": [
    "Classes are well ballanced, so we don`t need to stratify our train and test data."
   ]
  },
  {
   "cell_type": "code",
   "execution_count": 6,
   "metadata": {},
   "outputs": [],
   "source": [
    "X = data.drop(['Activity'], axis=1)\n",
    "y = data['Activity']"
   ]
  },
  {
   "cell_type": "code",
   "execution_count": 7,
   "metadata": {},
   "outputs": [],
   "source": [
    "random_state = 42"
   ]
  },
  {
   "cell_type": "code",
   "execution_count": 8,
   "metadata": {},
   "outputs": [],
   "source": [
    "X_train, X_test, y_train, y_test = train_test_split(X, y, random_state = random_state, test_size = 0.2)"
   ]
  },
  {
   "attachments": {},
   "cell_type": "markdown",
   "metadata": {},
   "source": [
    "### Basic models"
   ]
  },
  {
   "cell_type": "code",
   "execution_count": 9,
   "metadata": {},
   "outputs": [
    {
     "name": "stdout",
     "output_type": "stream",
     "text": [
      "Learning time: 2.6019957065582275\n",
      "f1_score on train data: 0.89\n",
      "f1_score on test data: 0.79\n"
     ]
    }
   ],
   "source": [
    "start = time.time()\n",
    "\n",
    "log_reg = LogisticRegression(max_iter = 1000, random_state = random_state)\n",
    "\n",
    "log_reg.fit(X_train, y_train)\n",
    "\n",
    "print('Learning time: {}'.format(time.time() - start))\n",
    "\n",
    "y_train_pred = log_reg.predict(X_train)\n",
    "print('f1_score on train data: {:.2f}'.format(f1_score(y_train, y_train_pred)))\n",
    "y_test_pred = log_reg.predict(X_test)\n",
    "print('f1_score on test data: {:.2f}'.format(f1_score(y_test, y_test_pred)))\n"
   ]
  },
  {
   "cell_type": "code",
   "execution_count": 10,
   "metadata": {},
   "outputs": [
    {
     "name": "stdout",
     "output_type": "stream",
     "text": [
      "Learning time: 1.8688569068908691\n",
      "f1_score on train data: 1.00\n",
      "f1_score on test data: 0.83\n"
     ]
    }
   ],
   "source": [
    "start = time.time()\n",
    "\n",
    "rf = RandomForestClassifier(random_state = random_state)\n",
    "\n",
    "rf.fit(X_train, y_train)\n",
    "\n",
    "print('Learning time: {}'.format(time.time() - start))\n",
    "\n",
    "y_train_pred = rf.predict(X_train)\n",
    "print('f1_score on train data: {:.2f}'.format(f1_score(y_train, y_train_pred)))\n",
    "y_test_pred = rf.predict(X_test)\n",
    "print('f1_score on test data: {:.2f}'.format(f1_score(y_test, y_test_pred)))\n"
   ]
  },
  {
   "attachments": {},
   "cell_type": "markdown",
   "metadata": {},
   "source": [
    "### GridSearchCV"
   ]
  },
  {
   "cell_type": "code",
   "execution_count": 11,
   "metadata": {},
   "outputs": [
    {
     "name": "stdout",
     "output_type": "stream",
     "text": [
      "Optimisation time: 321.96632170677185\n",
      "Best parameters:\n",
      "{'C': 0.1, 'penalty': 'l2', 'solver': 'lbfgs'}\n"
     ]
    }
   ],
   "source": [
    "param_grid = [{'penalty': [None]},\n",
    "              \n",
    "              {'penalty': ['l2'],\n",
    "               'solver': ['lbfgs', 'sag'],\n",
    "               'C': [0.01, 0.1, 0.3, 0.5, 0.7, 0.9, 1]},\n",
    "              \n",
    "              {'penalty': ['l1', 'l2'],\n",
    "               'solver': ['liblinear', 'saga'],\n",
    "               'C': [0.01, 0.1, 0.3, 0.5, 0.7, 0.9, 1]}\n",
    "              ]\n",
    "\n",
    "grid_search_log = GridSearchCV(\n",
    "    estimator = LogisticRegression(max_iter = 1000, random_state = random_state),\n",
    "    param_grid = param_grid,\n",
    "    cv = 5,\n",
    "    scoring = 'f1',\n",
    "    n_jobs = -1\n",
    "    )\n",
    "\n",
    "start = time.time()\n",
    "  \n",
    "grid_search_log.fit(X_train, y_train)\n",
    "\n",
    "print('Optimisation time: {}'.format(time.time() - start))\n",
    "print(\"Best parameters:\\n{}\".format(grid_search_log.best_params_))\n"
   ]
  },
  {
   "cell_type": "code",
   "execution_count": 12,
   "metadata": {},
   "outputs": [
    {
     "name": "stdout",
     "output_type": "stream",
     "text": [
      "Learning time: 0.9397165775299072\n",
      "f1_score on train data: 0.85\n",
      "f1_score on test data: 0.79\n"
     ]
    }
   ],
   "source": [
    "start = time.time()\n",
    "\n",
    "log_reg_opt = LogisticRegression(**grid_search_log.best_params_, max_iter = 1000, random_state = random_state)\n",
    "\n",
    "log_reg_opt.fit(X_train, y_train)\n",
    "\n",
    "print('Learning time: {}'.format(time.time() - start))\n",
    "\n",
    "y_train_pred = log_reg_opt.predict(X_train)\n",
    "print('f1_score on train data: {:.2f}'.format(f1_score(y_train, y_train_pred)))\n",
    "y_test_pred = log_reg_opt.predict(X_test)\n",
    "print('f1_score on test data: {:.2f}'.format(f1_score(y_test, y_test_pred)))"
   ]
  },
  {
   "cell_type": "code",
   "execution_count": 13,
   "metadata": {},
   "outputs": [
    {
     "name": "stdout",
     "output_type": "stream",
     "text": [
      "Optimisation time: 219.44901204109192\n",
      "Best parameters:\n",
      "{'max_depth': 28, 'min_samples_leaf': 4, 'n_estimators': 80}\n"
     ]
    }
   ],
   "source": [
    "param_grid = {'n_estimators': list(range(80, 200, 20)),\n",
    "              'min_samples_leaf': [4, 5, 6],\n",
    "              'max_depth': list(np.linspace(20, 40, 10, dtype=int))\n",
    "              }\n",
    "\n",
    "grid_search_rf = GridSearchCV(\n",
    "    estimator = RandomForestClassifier(random_state = random_state),\n",
    "    param_grid = param_grid,\n",
    "    cv = 5,\n",
    "    scoring = 'f1',\n",
    "    n_jobs = -1\n",
    "    )\n",
    "\n",
    "start = time.time()\n",
    "  \n",
    "grid_search_rf.fit(X_train, y_train)\n",
    "\n",
    "print('Optimisation time: {}'.format(time.time() - start))\n",
    "print(\"Best parameters:\\n{}\".format(grid_search_rf.best_params_))"
   ]
  },
  {
   "cell_type": "code",
   "execution_count": 14,
   "metadata": {},
   "outputs": [
    {
     "name": "stdout",
     "output_type": "stream",
     "text": [
      "Learning time: 1.2205684185028076\n",
      "f1_score on train data: 0.96\n",
      "f1_score on test data: 0.83\n"
     ]
    }
   ],
   "source": [
    "start = time.time()\n",
    "\n",
    "rf_opt = RandomForestClassifier(**grid_search_rf.best_params_, random_state = random_state)\n",
    "\n",
    "rf_opt.fit(X_train, y_train)\n",
    "\n",
    "print('Learning time: {}'.format(time.time() - start))\n",
    "\n",
    "y_train_pred = rf_opt.predict(X_train)\n",
    "print('f1_score on train data: {:.2f}'.format(f1_score(y_train, y_train_pred)))\n",
    "y_test_pred = rf_opt.predict(X_test)\n",
    "print('f1_score on test data: {:.2f}'.format(f1_score(y_test, y_test_pred)))"
   ]
  },
  {
   "attachments": {},
   "cell_type": "markdown",
   "metadata": {},
   "source": [
    "### RandomizedSearchCV"
   ]
  },
  {
   "cell_type": "code",
   "execution_count": 15,
   "metadata": {},
   "outputs": [
    {
     "name": "stdout",
     "output_type": "stream",
     "text": [
      "Optimisation time: 95.70389699935913\n",
      "Best parameters:\n",
      "{'solver': 'sag', 'penalty': 'l2', 'C': 0.1}\n"
     ]
    }
   ],
   "source": [
    "param_grid = [{'penalty': [None]},\n",
    "              \n",
    "              {'penalty': ['l2'],\n",
    "               'solver': ['lbfgs', 'sag'],\n",
    "               'C': [0.01, 0.1, 0.3, 0.5, 0.7, 0.9, 1]},\n",
    "              \n",
    "              {'penalty': ['l1', 'l2'],\n",
    "               'solver': ['liblinear', 'saga'],\n",
    "               'C': [0.01, 0.1, 0.3, 0.5, 0.7, 0.9, 1]}\n",
    "              ]\n",
    "\n",
    "random_search_log = RandomizedSearchCV(\n",
    "    estimator = LogisticRegression(max_iter = 1000, random_state = random_state), \n",
    "    param_distributions = param_grid, \n",
    "    cv = 5, \n",
    "    n_iter = 10, \n",
    "    n_jobs = -1\n",
    "    )\n",
    "\n",
    "start = time.time()\n",
    "  \n",
    "random_search_log.fit(X_train, y_train)\n",
    "\n",
    "print('Optimisation time: {}'.format(time.time() - start))\n",
    "print(\"Best parameters:\\n{}\".format(random_search_log.best_params_))"
   ]
  },
  {
   "cell_type": "code",
   "execution_count": 16,
   "metadata": {},
   "outputs": [
    {
     "name": "stdout",
     "output_type": "stream",
     "text": [
      "Learning time: 10.46279525756836\n",
      "f1_score on train data: 0.85\n",
      "f1_score on test data: 0.79\n"
     ]
    }
   ],
   "source": [
    "start = time.time()\n",
    "\n",
    "log_reg_opt = LogisticRegression(**random_search_log.best_params_, max_iter = 1000, random_state = random_state)\n",
    "\n",
    "log_reg_opt.fit(X_train, y_train)\n",
    "\n",
    "print('Learning time: {}'.format(time.time() - start))\n",
    "\n",
    "y_train_pred = log_reg_opt.predict(X_train)\n",
    "print('f1_score on train data: {:.2f}'.format(f1_score(y_train, y_train_pred)))\n",
    "y_test_pred = log_reg_opt.predict(X_test)\n",
    "print('f1_score on test data: {:.2f}'.format(f1_score(y_test, y_test_pred)))"
   ]
  },
  {
   "cell_type": "code",
   "execution_count": 17,
   "metadata": {},
   "outputs": [
    {
     "name": "stdout",
     "output_type": "stream",
     "text": [
      "Optimisation time: 18.15121078491211\n",
      "Best parameters:\n",
      "{'n_estimators': 80, 'min_samples_leaf': 4, 'max_depth': 22}\n"
     ]
    }
   ],
   "source": [
    "param_grid = {'n_estimators': list(range(80, 200, 20)),\n",
    "              'min_samples_leaf': [4, 5, 6],\n",
    "              'max_depth': list(np.linspace(20, 40, 10, dtype=int))\n",
    "              }\n",
    "\n",
    "random_search_rf = RandomizedSearchCV(\n",
    "    estimator = RandomForestClassifier(random_state = random_state), \n",
    "    param_distributions = param_grid, \n",
    "    cv = 5, \n",
    "    n_iter = 10, \n",
    "    n_jobs = -1\n",
    "    )\n",
    "\n",
    "start = time.time()\n",
    "  \n",
    "random_search_rf.fit(X_train, y_train)\n",
    "\n",
    "print('Optimisation time: {}'.format(time.time() - start))\n",
    "print(\"Best parameters:\\n{}\".format(random_search_rf.best_params_))"
   ]
  },
  {
   "cell_type": "code",
   "execution_count": 18,
   "metadata": {},
   "outputs": [
    {
     "name": "stdout",
     "output_type": "stream",
     "text": [
      "Learning time: 1.19439697265625\n",
      "f1_score on train data: 0.96\n",
      "f1_score on test data: 0.83\n"
     ]
    }
   ],
   "source": [
    "start = time.time()\n",
    "\n",
    "rf_opt = RandomForestClassifier(**random_search_rf.best_params_, random_state = random_state)\n",
    "\n",
    "rf_opt.fit(X_train, y_train)\n",
    "\n",
    "print('Learning time: {}'.format(time.time() - start))\n",
    "\n",
    "y_train_pred = rf_opt.predict(X_train)\n",
    "print('f1_score on train data: {:.2f}'.format(f1_score(y_train, y_train_pred)))\n",
    "y_test_pred = rf_opt.predict(X_test)\n",
    "print('f1_score on test data: {:.2f}'.format(f1_score(y_test, y_test_pred)))"
   ]
  },
  {
   "attachments": {},
   "cell_type": "markdown",
   "metadata": {},
   "source": [
    "### Hyperopt"
   ]
  },
  {
   "cell_type": "code",
   "execution_count": 132,
   "metadata": {},
   "outputs": [],
   "source": [
    "penalty_list = ['l1', 'l2', None]\n",
    "solver_list = ['lbfgs', 'sag', 'liblinear', 'saga']\n",
    "compatibilyty_dict = {'lbfgs': ['l2', None],\n",
    "                      'sag': ['l2', None],\n",
    "                      'liblinear': ['l1', 'l2'],\n",
    "                      'saga': ['elasticnet', 'l1', 'l2', None]\n",
    "                      }"
   ]
  },
  {
   "cell_type": "code",
   "execution_count": 133,
   "metadata": {},
   "outputs": [],
   "source": [
    "space = {'penalty': hp.choice('penalty', penalty_list),\n",
    "         'solver': hp.choice('solver', solver_list),\n",
    "         'C': hp.uniform('C', 0.01, 1)\n",
    "         }"
   ]
  },
  {
   "cell_type": "code",
   "execution_count": 134,
   "metadata": {},
   "outputs": [],
   "source": [
    "def hyperopt_log(params, cv = 5, X = X_train, y = y_train, random_state = random_state):\n",
    "    \"\"\"Function to initiate hyperopt algorithm\n",
    "\n",
    "    Args:\n",
    "        params (Dictionary): Parameters for machine learning model\n",
    "        cv (int): Cross-validation holds ratio.\n",
    "        X (Dataframe): Features\n",
    "        y (Series): Target feature\n",
    "        random_state (int):  Defaults to random_state.\n",
    "\n",
    "    Returns:\n",
    "        float: f1 score or 0 in case of parameters incompatibility \n",
    "    \"\"\"\n",
    "    params = {'penalty': str(params['penalty']),\n",
    "              'solver': str(params['solver']),\n",
    "              'C': float(params['C'])\n",
    "              }\n",
    "    \n",
    "    if params['penalty'] not in compatibilyty_dict[params['solver']]:\n",
    "        return 0\n",
    "                    \n",
    "    model = LogisticRegression(**params, max_iter = 1000, random_state = random_state)\n",
    "\n",
    "    model.fit(X, y)\n",
    "    \n",
    "    score = cross_val_score(model, X, y, cv = cv, scoring = \"f1\", n_jobs = -1).mean()\n",
    "        \n",
    "    return -score"
   ]
  },
  {
   "cell_type": "code",
   "execution_count": 135,
   "metadata": {},
   "outputs": [
    {
     "name": "stdout",
     "output_type": "stream",
     "text": [
      "  0%|          | 0/20 [00:00<?, ?trial/s, best loss=?]"
     ]
    },
    {
     "name": "stderr",
     "output_type": "stream",
     "text": [
      "c:\\Users\\nokac\\AppData\\Local\\Programs\\Python\\Python39\\lib\\site-packages\\sklearn\\linear_model\\_sag.py:350: ConvergenceWarning: The max_iter was reached which means the coef_ did not converge\n",
      "  warnings.warn(\n",
      "\n"
     ]
    },
    {
     "name": "stdout",
     "output_type": "stream",
     "text": [
      " 25%|██▌       | 5/20 [02:10<05:40, 22.73s/trial, best loss: -0.7837204101572335]"
     ]
    },
    {
     "name": "stderr",
     "output_type": "stream",
     "text": [
      "c:\\Users\\nokac\\AppData\\Local\\Programs\\Python\\Python39\\lib\\site-packages\\sklearn\\linear_model\\_sag.py:350: ConvergenceWarning: The max_iter was reached which means the coef_ did not converge\n",
      "  warnings.warn(\n",
      "\n"
     ]
    },
    {
     "name": "stdout",
     "output_type": "stream",
     "text": [
      " 90%|█████████ | 18/20 [03:55<00:13,  6.79s/trial, best loss: -0.7839950244781424]"
     ]
    },
    {
     "name": "stderr",
     "output_type": "stream",
     "text": [
      "c:\\Users\\nokac\\AppData\\Local\\Programs\\Python\\Python39\\lib\\site-packages\\sklearn\\linear_model\\_sag.py:350: ConvergenceWarning: The max_iter was reached which means the coef_ did not converge\n",
      "  warnings.warn(\n",
      "\n"
     ]
    },
    {
     "name": "stdout",
     "output_type": "stream",
     "text": [
      "100%|██████████| 20/20 [05:44<00:00, 17.21s/trial, best loss: -0.7839950244781424]\n",
      "Optimisation time: 344.2267167568207\n",
      "Best parameters: {'C': 0.4857515970241288, 'penalty': 0, 'solver': 3}\n"
     ]
    }
   ],
   "source": [
    "start = time.time()\n",
    "\n",
    "trials = Trials()\n",
    "\n",
    "best = fmin(hyperopt_log,\n",
    "            space = space,\n",
    "            algo = tpe.suggest,\n",
    "            max_evals = 20,\n",
    "            trials = trials,\n",
    "            rstate = np.random.default_rng(random_state)\n",
    "           )\n",
    "\n",
    "print('Optimisation time: {}'.format(time.time() - start))\n",
    "print(\"Best parameters: {}\".format(best))"
   ]
  },
  {
   "cell_type": "code",
   "execution_count": 136,
   "metadata": {},
   "outputs": [
    {
     "name": "stdout",
     "output_type": "stream",
     "text": [
      "Learning time: 50.945929527282715\n",
      "f1_score on train data: 0.85\n",
      "f1_score on test data: 0.80\n"
     ]
    },
    {
     "name": "stderr",
     "output_type": "stream",
     "text": [
      "c:\\Users\\nokac\\AppData\\Local\\Programs\\Python\\Python39\\lib\\site-packages\\sklearn\\linear_model\\_sag.py:350: ConvergenceWarning: The max_iter was reached which means the coef_ did not converge\n",
      "  warnings.warn(\n"
     ]
    }
   ],
   "source": [
    "start = time.time()\n",
    "\n",
    "log_reg_opt = LogisticRegression(\n",
    "    penalty = penalty_list[best['penalty']],\n",
    "    solver = solver_list[best['solver']],\n",
    "    C = float(best['C']),\n",
    "    max_iter = 1000,\n",
    "    random_state = random_state\n",
    "    )\n",
    "\n",
    "log_reg_opt.fit(X_train, y_train)\n",
    "\n",
    "print('Learning time: {}'.format(time.time() - start))\n",
    "\n",
    "y_train_pred = log_reg_opt.predict(X_train)\n",
    "print('f1_score on train data: {:.2f}'.format(f1_score(y_train, y_train_pred)))\n",
    "y_test_pred = log_reg_opt.predict(X_test)\n",
    "print('f1_score on test data: {:.2f}'.format(f1_score(y_test, y_test_pred)))"
   ]
  },
  {
   "cell_type": "code",
   "execution_count": 137,
   "metadata": {},
   "outputs": [],
   "source": [
    "space = {'n_estimators': hp.quniform('n_estimators', 80, 200, 20),\n",
    "         'min_samples_leaf': hp.quniform('min_samples_leaf', 4, 6, 1),\n",
    "         'max_depth' : hp.quniform('max_depth', 20, 40, 10)\n",
    "         }"
   ]
  },
  {
   "cell_type": "code",
   "execution_count": 167,
   "metadata": {},
   "outputs": [],
   "source": [
    "def hyperopt_rf(params, cv = 5, X = X_train, y = y_train, random_state = random_state):\n",
    "    \"\"\"Function to initiate hyperopt algorithm\n",
    "\n",
    "    Args:\n",
    "        params (Dictionary): Parameters for machine learning model\n",
    "        cv (int): Cross-validation holds ratio.\n",
    "        X (Dataframe): Features\n",
    "        y (Series): Target feature\n",
    "        random_state (int):  Defaults to random_state.\n",
    "\n",
    "    Returns:\n",
    "        float: f1 score or 0 in case of parameters incompatibility \n",
    "    \"\"\"\n",
    "    params = {'n_estimators': int(params['n_estimators']),\n",
    "              'min_samples_leaf': int(params['min_samples_leaf']),\n",
    "              'max_depth': int(params['max_depth'])\n",
    "             }\n",
    "  \n",
    "    model = RandomForestClassifier(**params, random_state=random_state)\n",
    "\n",
    "    model.fit(X, y)\n",
    "    \n",
    "    score = cross_val_score(model, X, y, cv = cv, scoring = \"f1\", n_jobs = -1).mean()\n",
    "    \n",
    "    return -score"
   ]
  },
  {
   "cell_type": "code",
   "execution_count": 164,
   "metadata": {},
   "outputs": [
    {
     "name": "stdout",
     "output_type": "stream",
     "text": [
      "100%|██████████| 20/20 [01:31<00:00,  4.57s/trial, best loss: -0.8051998212040885]\n",
      "Optimisation time: 91.44578337669373\n",
      "Best parameters: {'max_depth': 30.0, 'min_samples_leaf': 4.0, 'n_estimators': 80.0}\n"
     ]
    }
   ],
   "source": [
    "start = time.time()\n",
    "\n",
    "trials = Trials()\n",
    "\n",
    "best = fmin(hyperopt_rf,\n",
    "            space = space,\n",
    "            algo = tpe.suggest,\n",
    "            max_evals = 20,\n",
    "            trials = trials,\n",
    "            rstate = np.random.default_rng(random_state)\n",
    "           )\n",
    "\n",
    "print('Optimisation time: {}'.format(time.time() - start))\n",
    "print(\"Best parameters: {}\".format(best))"
   ]
  },
  {
   "cell_type": "code",
   "execution_count": 165,
   "metadata": {},
   "outputs": [
    {
     "name": "stdout",
     "output_type": "stream",
     "text": [
      "Learning time: 1.2385358810424805\n",
      "f1_score on train data: 0.96\n",
      "f1_score on test data: 0.83\n"
     ]
    }
   ],
   "source": [
    "start = time.time()\n",
    "\n",
    "rf_opt = RandomForestClassifier(\n",
    "    n_estimators = int(best['n_estimators']),\n",
    "    max_depth = int(best['max_depth']),\n",
    "    min_samples_leaf = int(best['min_samples_leaf']),\n",
    "    random_state = random_state)\n",
    "\n",
    "rf_opt.fit(X_train, y_train)\n",
    "\n",
    "print('Learning time: {}'.format(time.time() - start))\n",
    "\n",
    "y_train_pred = rf_opt.predict(X_train)\n",
    "print('f1_score on train data: {:.2f}'.format(f1_score(y_train, y_train_pred)))\n",
    "y_test_pred = rf_opt.predict(X_test)\n",
    "print('f1_score on test data: {:.2f}'.format(f1_score(y_test, y_test_pred)))"
   ]
  },
  {
   "attachments": {},
   "cell_type": "markdown",
   "metadata": {},
   "source": [
    "### Optuna"
   ]
  },
  {
   "cell_type": "code",
   "execution_count": 174,
   "metadata": {},
   "outputs": [],
   "source": [
    "def optuna_log(trial):\n",
    "    \"\"\"Function to optimize with optuna algorith\n",
    "\n",
    "    Args:\n",
    "        trial (optuna.trial): a single execution of the objective function\n",
    "\n",
    "    Returns:\n",
    "      float: f1 score\n",
    "    \"\"\"\n",
    "    C_value = trial.suggest_float('C', 0.01, 1, log = False)\n",
    "    penalty_name = trial.suggest_categorical('penalty', penalty_list)\n",
    "    solver_name = trial.suggest_categorical('solver', solver_list)\n",
    "\n",
    "    if penalty_name not in compatibilyty_dict[solver_name]:\n",
    "        return 0\n",
    "  \n",
    "    if penalty_name is None:    \n",
    "        model = LogisticRegression(\n",
    "            penalty = penalty_name,\n",
    "            max_iter = 1000,\n",
    "            random_state = random_state\n",
    "            )\n",
    "    else:\n",
    "        model = LogisticRegression(\n",
    "            penalty = penalty_name,\n",
    "            solver = solver_name,\n",
    "            C = C_value,\n",
    "            max_iter = 1000,\n",
    "            random_state = random_state\n",
    "            )  \n",
    "  \n",
    "    model.fit(X_train, y_train)\n",
    "  \n",
    "    score = cross_val_score(model, X_train, y_train, cv = 5, scoring = \"f1\", n_jobs = -1).mean()\n",
    "  \n",
    "    return score"
   ]
  },
  {
   "cell_type": "code",
   "execution_count": 175,
   "metadata": {},
   "outputs": [
    {
     "name": "stderr",
     "output_type": "stream",
     "text": [
      "\u001b[32m[I 2023-02-12 00:05:44,587]\u001b[0m A new study created in memory with name: LogisticRegression\u001b[0m\n",
      "c:\\Users\\nokac\\AppData\\Local\\Programs\\Python\\Python39\\lib\\site-packages\\sklearn\\linear_model\\_logistic.py:458: ConvergenceWarning: lbfgs failed to converge (status=1):\n",
      "STOP: TOTAL NO. of ITERATIONS REACHED LIMIT.\n",
      "\n",
      "Increase the number of iterations (max_iter) or scale the data as shown in:\n",
      "    https://scikit-learn.org/stable/modules/preprocessing.html\n",
      "Please also refer to the documentation for alternative solver options:\n",
      "    https://scikit-learn.org/stable/modules/linear_model.html#logistic-regression\n",
      "  n_iter_i = _check_optimize_result(\n",
      "\u001b[32m[I 2023-02-12 00:06:03,403]\u001b[0m Trial 0 finished with value: 0.7250877932339528 and parameters: {'C': 0.5270383924139143, 'penalty': None, 'solver': 'lbfgs'}. Best is trial 0 with value: 0.7250877932339528.\u001b[0m\n",
      "c:\\Users\\nokac\\AppData\\Local\\Programs\\Python\\Python39\\lib\\site-packages\\sklearn\\linear_model\\_logistic.py:458: ConvergenceWarning: lbfgs failed to converge (status=1):\n",
      "STOP: TOTAL NO. of ITERATIONS REACHED LIMIT.\n",
      "\n",
      "Increase the number of iterations (max_iter) or scale the data as shown in:\n",
      "    https://scikit-learn.org/stable/modules/preprocessing.html\n",
      "Please also refer to the documentation for alternative solver options:\n",
      "    https://scikit-learn.org/stable/modules/linear_model.html#logistic-regression\n",
      "  n_iter_i = _check_optimize_result(\n",
      "\u001b[32m[I 2023-02-12 00:06:22,442]\u001b[0m Trial 1 finished with value: 0.7250877932339528 and parameters: {'C': 0.9947860287732808, 'penalty': None, 'solver': 'sag'}. Best is trial 0 with value: 0.7250877932339528.\u001b[0m\n",
      "\u001b[32m[I 2023-02-12 00:06:22,444]\u001b[0m Trial 2 finished with value: 0.0 and parameters: {'C': 0.30554023396179925, 'penalty': 'l1', 'solver': 'sag'}. Best is trial 0 with value: 0.7250877932339528.\u001b[0m\n",
      "\u001b[32m[I 2023-02-12 00:07:00,904]\u001b[0m Trial 3 finished with value: 0.7725794864168904 and parameters: {'C': 0.6841446180118376, 'penalty': 'l2', 'solver': 'saga'}. Best is trial 3 with value: 0.7725794864168904.\u001b[0m\n",
      "\u001b[32m[I 2023-02-12 00:07:00,907]\u001b[0m Trial 4 finished with value: 0.0 and parameters: {'C': 0.3150264979352595, 'penalty': None, 'solver': 'liblinear'}. Best is trial 3 with value: 0.7725794864168904.\u001b[0m\n",
      "\u001b[32m[I 2023-02-12 00:07:03,220]\u001b[0m Trial 5 finished with value: 0.7801408344541236 and parameters: {'C': 0.2348313838990096, 'penalty': 'l2', 'solver': 'liblinear'}. Best is trial 5 with value: 0.7801408344541236.\u001b[0m\n",
      "\u001b[32m[I 2023-02-12 00:07:35,346]\u001b[0m Trial 6 finished with value: 0.7708786698193142 and parameters: {'C': 0.8803448953832567, 'penalty': 'l2', 'solver': 'sag'}. Best is trial 5 with value: 0.7801408344541236.\u001b[0m\n",
      "\u001b[32m[I 2023-02-12 00:07:44,681]\u001b[0m Trial 7 finished with value: 0.7717620092436628 and parameters: {'C': 0.7267195860404897, 'penalty': 'l2', 'solver': 'lbfgs'}. Best is trial 5 with value: 0.7801408344541236.\u001b[0m\n",
      "\u001b[32m[I 2023-02-12 00:07:45,499]\u001b[0m Trial 8 finished with value: 0.7711766037954534 and parameters: {'C': 0.08267948520029875, 'penalty': 'l1', 'solver': 'liblinear'}. Best is trial 5 with value: 0.7801408344541236.\u001b[0m\n",
      "c:\\Users\\nokac\\AppData\\Local\\Programs\\Python\\Python39\\lib\\site-packages\\sklearn\\linear_model\\_logistic.py:458: ConvergenceWarning: lbfgs failed to converge (status=1):\n",
      "STOP: TOTAL NO. of ITERATIONS REACHED LIMIT.\n",
      "\n",
      "Increase the number of iterations (max_iter) or scale the data as shown in:\n",
      "    https://scikit-learn.org/stable/modules/preprocessing.html\n",
      "Please also refer to the documentation for alternative solver options:\n",
      "    https://scikit-learn.org/stable/modules/linear_model.html#logistic-regression\n",
      "  n_iter_i = _check_optimize_result(\n",
      "\u001b[32m[I 2023-02-12 00:08:05,380]\u001b[0m Trial 9 finished with value: 0.7250877932339528 and parameters: {'C': 0.23927836257156754, 'penalty': None, 'solver': 'saga'}. Best is trial 5 with value: 0.7801408344541236.\u001b[0m\n",
      "\u001b[32m[I 2023-02-12 00:08:06,156]\u001b[0m Trial 10 finished with value: 0.7785403826732757 and parameters: {'C': 0.013761403895982127, 'penalty': 'l2', 'solver': 'liblinear'}. Best is trial 5 with value: 0.7801408344541236.\u001b[0m\n",
      "\u001b[32m[I 2023-02-12 00:08:07,369]\u001b[0m Trial 11 finished with value: 0.7848821108961495 and parameters: {'C': 0.057712253493905234, 'penalty': 'l2', 'solver': 'liblinear'}. Best is trial 11 with value: 0.7848821108961495.\u001b[0m\n",
      "\u001b[32m[I 2023-02-12 00:08:08,561]\u001b[0m Trial 12 finished with value: 0.7812882311421987 and parameters: {'C': 0.17582612193168753, 'penalty': 'l2', 'solver': 'liblinear'}. Best is trial 11 with value: 0.7848821108961495.\u001b[0m\n",
      "\u001b[32m[I 2023-02-12 00:08:09,937]\u001b[0m Trial 13 finished with value: 0.7819613154896672 and parameters: {'C': 0.11976392228128446, 'penalty': 'l2', 'solver': 'liblinear'}. Best is trial 11 with value: 0.7848821108961495.\u001b[0m\n",
      "\u001b[32m[I 2023-02-12 00:08:11,108]\u001b[0m Trial 14 finished with value: 0.785112122894938 and parameters: {'C': 0.06497862311867433, 'penalty': 'l2', 'solver': 'liblinear'}. Best is trial 14 with value: 0.785112122894938.\u001b[0m\n",
      "\u001b[32m[I 2023-02-12 00:08:12,305]\u001b[0m Trial 15 finished with value: 0.7836556862455424 and parameters: {'C': 0.061224746953166764, 'penalty': 'l2', 'solver': 'liblinear'}. Best is trial 14 with value: 0.785112122894938.\u001b[0m\n",
      "\u001b[32m[I 2023-02-12 00:08:12,954]\u001b[0m Trial 16 finished with value: 0.7477508146345855 and parameters: {'C': 0.021043736438409302, 'penalty': 'l1', 'solver': 'liblinear'}. Best is trial 14 with value: 0.785112122894938.\u001b[0m\n",
      "\u001b[32m[I 2023-02-12 00:08:37,153]\u001b[0m Trial 17 finished with value: 0.7783611611571993 and parameters: {'C': 0.36978941564832457, 'penalty': 'l2', 'solver': 'saga'}. Best is trial 14 with value: 0.785112122894938.\u001b[0m\n",
      "\u001b[32m[I 2023-02-12 00:08:41,563]\u001b[0m Trial 18 finished with value: 0.781864285644374 and parameters: {'C': 0.13912459037289937, 'penalty': 'l2', 'solver': 'lbfgs'}. Best is trial 14 with value: 0.785112122894938.\u001b[0m\n",
      "\u001b[32m[I 2023-02-12 00:08:43,174]\u001b[0m Trial 19 finished with value: 0.7834997851219578 and parameters: {'C': 0.4315086190752099, 'penalty': 'l1', 'solver': 'liblinear'}. Best is trial 14 with value: 0.785112122894938.\u001b[0m\n"
     ]
    },
    {
     "name": "stdout",
     "output_type": "stream",
     "text": [
      "Optimisation time: 178.58898615837097\n"
     ]
    }
   ],
   "source": [
    "start = time.time()\n",
    "\n",
    "study = optuna.create_study(study_name=\"LogisticRegression\", direction=\"maximize\")\n",
    "\n",
    "study.optimize(optuna_log, n_trials=20)\n",
    "print('Optimisation time: {}'.format(time.time() - start))"
   ]
  },
  {
   "cell_type": "code",
   "execution_count": 176,
   "metadata": {},
   "outputs": [
    {
     "name": "stdout",
     "output_type": "stream",
     "text": [
      "Best parameters: {'C': 0.06497862311867433, 'penalty': 'l2', 'solver': 'liblinear'}\n"
     ]
    }
   ],
   "source": [
    "print(\"Best parameters: {}\".format(study.best_params))"
   ]
  },
  {
   "cell_type": "code",
   "execution_count": 177,
   "metadata": {},
   "outputs": [
    {
     "name": "stdout",
     "output_type": "stream",
     "text": [
      "Learning time: 0.25714826583862305\n",
      "f1_score on train data: 0.85\n",
      "f1_score on test data: 0.79\n"
     ]
    }
   ],
   "source": [
    "start = time.time()\n",
    "\n",
    "log_reg_opt = LogisticRegression(\n",
    "    **study.best_params,\n",
    "    max_iter = 1000,\n",
    "    random_state = random_state\n",
    "    )\n",
    "\n",
    "log_reg_opt.fit(X_train, y_train)\n",
    "\n",
    "print('Learning time: {}'.format(time.time() - start))\n",
    "\n",
    "y_train_pred = log_reg_opt.predict(X_train)\n",
    "print('f1_score on train data: {:.2f}'.format(f1_score(y_train, y_train_pred)))\n",
    "y_test_pred = log_reg_opt.predict(X_test)\n",
    "print('f1_score on test data: {:.2f}'.format(f1_score(y_test, y_test_pred)))"
   ]
  },
  {
   "cell_type": "code",
   "execution_count": 178,
   "metadata": {},
   "outputs": [],
   "source": [
    "def optuna_rf(trial):\n",
    "    n_estimators = trial.suggest_int('n_estimators', 80, 200, 20)\n",
    "    min_samples_leaf = trial.suggest_int('min_samples_leaf', 4, 6, 1)\n",
    "    max_depth = trial.suggest_int('max_depth', 20, 40, 10)\n",
    "    \n",
    "    model = RandomForestClassifier(\n",
    "        n_estimators = n_estimators,\n",
    "        min_samples_leaf = min_samples_leaf,\n",
    "        max_depth = max_depth,\n",
    "        random_state = random_state\n",
    "        )\n",
    "    \n",
    "    model.fit(X_train, y_train)\n",
    "  \n",
    "    score = cross_val_score(model, X_train, y_train, cv = 5, scoring = \"f1\", n_jobs = -1).mean()\n",
    "  \n",
    "    return score    "
   ]
  },
  {
   "cell_type": "code",
   "execution_count": 179,
   "metadata": {},
   "outputs": [
    {
     "name": "stderr",
     "output_type": "stream",
     "text": [
      "\u001b[32m[I 2023-02-12 00:17:11,957]\u001b[0m A new study created in memory with name: RandomForestClassifier\u001b[0m\n",
      "\u001b[32m[I 2023-02-12 00:17:17,950]\u001b[0m Trial 0 finished with value: 0.7994377592490409 and parameters: {'n_estimators': 120, 'min_samples_leaf': 6, 'max_depth': 20}. Best is trial 0 with value: 0.7994377592490409.\u001b[0m\n",
      "\u001b[32m[I 2023-02-12 00:17:24,593]\u001b[0m Trial 1 finished with value: 0.7990635907672139 and parameters: {'n_estimators': 200, 'min_samples_leaf': 6, 'max_depth': 40}. Best is trial 0 with value: 0.7994377592490409.\u001b[0m\n",
      "\u001b[32m[I 2023-02-12 00:17:28,205]\u001b[0m Trial 2 finished with value: 0.7943184152560021 and parameters: {'n_estimators': 80, 'min_samples_leaf': 6, 'max_depth': 30}. Best is trial 0 with value: 0.7994377592490409.\u001b[0m\n",
      "\u001b[32m[I 2023-02-12 00:17:34,105]\u001b[0m Trial 3 finished with value: 0.800067278572184 and parameters: {'n_estimators': 160, 'min_samples_leaf': 4, 'max_depth': 30}. Best is trial 3 with value: 0.800067278572184.\u001b[0m\n",
      "\u001b[32m[I 2023-02-12 00:17:39,728]\u001b[0m Trial 4 finished with value: 0.7990635907672139 and parameters: {'n_estimators': 200, 'min_samples_leaf': 6, 'max_depth': 40}. Best is trial 3 with value: 0.800067278572184.\u001b[0m\n",
      "\u001b[32m[I 2023-02-12 00:17:44,827]\u001b[0m Trial 5 finished with value: 0.7971928469696943 and parameters: {'n_estimators': 180, 'min_samples_leaf': 6, 'max_depth': 40}. Best is trial 3 with value: 0.800067278572184.\u001b[0m\n",
      "\u001b[32m[I 2023-02-12 00:17:49,738]\u001b[0m Trial 6 finished with value: 0.8007139658500483 and parameters: {'n_estimators': 160, 'min_samples_leaf': 5, 'max_depth': 40}. Best is trial 6 with value: 0.8007139658500483.\u001b[0m\n",
      "\u001b[32m[I 2023-02-12 00:17:52,903]\u001b[0m Trial 7 finished with value: 0.7945940212621732 and parameters: {'n_estimators': 100, 'min_samples_leaf': 6, 'max_depth': 40}. Best is trial 6 with value: 0.8007139658500483.\u001b[0m\n",
      "\u001b[32m[I 2023-02-12 00:17:57,804]\u001b[0m Trial 8 finished with value: 0.8007139658500483 and parameters: {'n_estimators': 160, 'min_samples_leaf': 5, 'max_depth': 40}. Best is trial 6 with value: 0.8007139658500483.\u001b[0m\n",
      "\u001b[32m[I 2023-02-12 00:18:03,922]\u001b[0m Trial 9 finished with value: 0.8015655128774348 and parameters: {'n_estimators': 200, 'min_samples_leaf': 4, 'max_depth': 20}. Best is trial 9 with value: 0.8015655128774348.\u001b[0m\n",
      "\u001b[32m[I 2023-02-12 00:18:07,750]\u001b[0m Trial 10 finished with value: 0.8018072897315782 and parameters: {'n_estimators': 120, 'min_samples_leaf': 4, 'max_depth': 20}. Best is trial 10 with value: 0.8018072897315782.\u001b[0m\n",
      "\u001b[32m[I 2023-02-12 00:18:11,481]\u001b[0m Trial 11 finished with value: 0.8018072897315782 and parameters: {'n_estimators': 120, 'min_samples_leaf': 4, 'max_depth': 20}. Best is trial 10 with value: 0.8018072897315782.\u001b[0m\n",
      "\u001b[32m[I 2023-02-12 00:18:15,392]\u001b[0m Trial 12 finished with value: 0.8018072897315782 and parameters: {'n_estimators': 120, 'min_samples_leaf': 4, 'max_depth': 20}. Best is trial 10 with value: 0.8018072897315782.\u001b[0m\n",
      "\u001b[32m[I 2023-02-12 00:18:19,358]\u001b[0m Trial 13 finished with value: 0.8018072897315782 and parameters: {'n_estimators': 120, 'min_samples_leaf': 4, 'max_depth': 20}. Best is trial 10 with value: 0.8018072897315782.\u001b[0m\n",
      "\u001b[32m[I 2023-02-12 00:18:22,105]\u001b[0m Trial 14 finished with value: 0.8006754801947421 and parameters: {'n_estimators': 80, 'min_samples_leaf': 5, 'max_depth': 30}. Best is trial 10 with value: 0.8018072897315782.\u001b[0m\n",
      "\u001b[32m[I 2023-02-12 00:18:26,634]\u001b[0m Trial 15 finished with value: 0.803482147356992 and parameters: {'n_estimators': 140, 'min_samples_leaf': 4, 'max_depth': 20}. Best is trial 15 with value: 0.803482147356992.\u001b[0m\n",
      "\u001b[32m[I 2023-02-12 00:18:31,133]\u001b[0m Trial 16 finished with value: 0.803482147356992 and parameters: {'n_estimators': 140, 'min_samples_leaf': 4, 'max_depth': 20}. Best is trial 15 with value: 0.803482147356992.\u001b[0m\n",
      "\u001b[32m[I 2023-02-12 00:18:35,482]\u001b[0m Trial 17 finished with value: 0.8027454573224457 and parameters: {'n_estimators': 140, 'min_samples_leaf': 5, 'max_depth': 30}. Best is trial 15 with value: 0.803482147356992.\u001b[0m\n",
      "\u001b[32m[I 2023-02-12 00:18:39,699]\u001b[0m Trial 18 finished with value: 0.8027454573224457 and parameters: {'n_estimators': 140, 'min_samples_leaf': 5, 'max_depth': 30}. Best is trial 15 with value: 0.803482147356992.\u001b[0m\n",
      "\u001b[32m[I 2023-02-12 00:18:44,282]\u001b[0m Trial 19 finished with value: 0.803482147356992 and parameters: {'n_estimators': 140, 'min_samples_leaf': 4, 'max_depth': 20}. Best is trial 15 with value: 0.803482147356992.\u001b[0m\n"
     ]
    },
    {
     "name": "stdout",
     "output_type": "stream",
     "text": [
      "Optimisation time: 92.32631516456604\n"
     ]
    }
   ],
   "source": [
    "start = time.time()\n",
    "\n",
    "study = optuna.create_study(study_name=\"RandomForestClassifier\", direction=\"maximize\")\n",
    "\n",
    "study.optimize(optuna_rf, n_trials=20)\n",
    "print('Optimisation time: {}'.format(time.time() - start))"
   ]
  },
  {
   "cell_type": "code",
   "execution_count": 180,
   "metadata": {},
   "outputs": [
    {
     "name": "stdout",
     "output_type": "stream",
     "text": [
      "Best parameters: {'n_estimators': 140, 'min_samples_leaf': 4, 'max_depth': 20}\n"
     ]
    }
   ],
   "source": [
    "print(\"Best parameters: {}\".format(study.best_params))"
   ]
  },
  {
   "cell_type": "code",
   "execution_count": 181,
   "metadata": {},
   "outputs": [
    {
     "name": "stdout",
     "output_type": "stream",
     "text": [
      "Learning time: 2.1512451171875\n",
      "f1_score on train data: 0.96\n",
      "f1_score on test data: 0.83\n"
     ]
    }
   ],
   "source": [
    "start = time.time()\n",
    "\n",
    "rf_opt = RandomForestClassifier(\n",
    "    **study.best_params,\n",
    "    random_state = random_state)\n",
    "\n",
    "rf_opt.fit(X_train, y_train)\n",
    "\n",
    "print('Learning time: {}'.format(time.time() - start))\n",
    "\n",
    "y_train_pred = rf_opt.predict(X_train)\n",
    "print('f1_score on train data: {:.2f}'.format(f1_score(y_train, y_train_pred)))\n",
    "y_test_pred = rf_opt.predict(X_test)\n",
    "print('f1_score on test data: {:.2f}'.format(f1_score(y_test, y_test_pred)))"
   ]
  }
 ],
 "metadata": {
  "kernelspec": {
   "display_name": "Python 3",
   "language": "python",
   "name": "python3"
  },
  "language_info": {
   "codemirror_mode": {
    "name": "ipython",
    "version": 3
   },
   "file_extension": ".py",
   "mimetype": "text/x-python",
   "name": "python",
   "nbconvert_exporter": "python",
   "pygments_lexer": "ipython3",
   "version": "3.9.13"
  },
  "orig_nbformat": 4,
  "vscode": {
   "interpreter": {
    "hash": "5bf80cc448cd077414e24173751bcaf70c84f621a30586b9d93dd9490b70cec9"
   }
  }
 },
 "nbformat": 4,
 "nbformat_minor": 2
}
